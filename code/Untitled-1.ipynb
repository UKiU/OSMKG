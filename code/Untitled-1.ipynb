{
 "cells": [
  {
   "cell_type": "code",
   "execution_count": 2,
   "metadata": {},
   "outputs": [],
   "source": [
    "import numpy as np\n",
    "import pandas as pd\n",
    "import math\n",
    "KG='..//data//'"
   ]
  },
  {
   "cell_type": "code",
   "execution_count": 6,
   "metadata": {},
   "outputs": [],
   "source": [
    "safegraph=pd.read_csv(KG+\"raw//New York.csv\")\n",
    "poi=pd.read_json(KG+'poi.json')\n",
    "aoi=pd.read_json(KG+'aoi.json')\n"
   ]
  },
  {
   "cell_type": "code",
   "execution_count": 10,
   "metadata": {},
   "outputs": [
    {
     "name": "stdout",
     "output_type": "stream",
     "text": [
      "0                         City Athletic Club RIP\n",
      "1                            Amateur Comedy Club\n",
      "2                    Apartments at 232 E 63rd St\n",
      "3           Heartland Psychological Services P C\n",
      "4                                    Marble Lane\n",
      "                           ...                  \n",
      "146891    Marmolp General Contractor Corporation\n",
      "146892                       Berger Sidney R DDS\n",
      "146893                          DMV Car Coverage\n",
      "146894                 QP 50 70 West 93rd Street\n",
      "146895                         Guitar Guide Guru\n",
      "Name: location_name, Length: 146896, dtype: object \n",
      " 0                       Hell's Kitchen\n",
      "1        Brothers to the Rescue Corner\n",
      "2                        Ukrainian Way\n",
      "3           Hart Island Ferry Terminal\n",
      "4              3rd Avenue–138th Street\n",
      "                     ...              \n",
      "67637                 Walter's Cottage\n",
      "67638              IC Shuttle Bus stop\n",
      "67639              IC Shuttle Bus stop\n",
      "67640                           Ovenly\n",
      "67641                        Citi Bike\n",
      "Name: name, Length: 67642, dtype: object\n"
     ]
    }
   ],
   "source": [
    "sname=safegraph['location_name']\n",
    "pname=poi['name']\n",
    "aname=aoi['name']\n",
    "print(sname,'\\n',pname)"
   ]
  },
  {
   "cell_type": "code",
   "execution_count": 11,
   "metadata": {},
   "outputs": [
    {
     "name": "stdout",
     "output_type": "stream",
     "text": [
      "0/67642\n"
     ]
    }
   ],
   "source": [
    "n=0\n",
    "for p in pname:\n",
    "    if p in sname:\n",
    "        n=n+1\n",
    "for p in aname:\n",
    "    if p in sname:\n",
    "        n=n+1\n",
    "print()"
   ]
  }
 ],
 "metadata": {
  "kernelspec": {
   "display_name": "venv",
   "language": "python",
   "name": "python3"
  },
  "language_info": {
   "codemirror_mode": {
    "name": "ipython",
    "version": 3
   },
   "file_extension": ".py",
   "mimetype": "text/x-python",
   "name": "python",
   "nbconvert_exporter": "python",
   "pygments_lexer": "ipython3",
   "version": "3.11.5"
  },
  "orig_nbformat": 4
 },
 "nbformat": 4,
 "nbformat_minor": 2
}
